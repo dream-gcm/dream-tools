{
 "cells": [
  {
   "cell_type": "markdown",
   "metadata": {},
   "source": [
    "### Demo how to use OLR-based MJO index from Kiladis et al 2014 with the DREAM model). \n",
    "### Part 1/2.\n"
   ]
  },
  {
   "cell_type": "markdown",
   "metadata": {},
   "source": [
    "* stephanie.leroux@ocean-next.fr\n",
    "* Last update: 1/04/2019\n",
    "\n",
    "#### Purpose: \n",
    "* This notebook shows how to read txt files of the Original OMI index proposed by Kiladis et al 2014 (see refs below), and make netcdf files from them to be used with the DREAM model\n",
    "\n",
    "#### The Original OMI index from Kiladis et al 2014.\n",
    "* Ref paper: https://doi.org/10.1175/MWR-D-13-00301.1\n",
    "* Ref webpage: https://www.esrl.noaa.gov/psd/mjo/\n",
    "* Summary: OOMI is a OLR-only-based index of the MJO that goes \"smoothly\" across seasons, and is based on 2-D space-EOFs (as opposed to the RMM index which is based on EOFs on latitudinal averages of OLR and  zonal wind at 200 and 850 hPa) .\n",
    "* In more details, what is OOMI:\n",
    "    - 30-96 day and easward-only filtered OLR (zonal mean + all eastward wavenumbers) over 1979-2018.\n",
    "    - the first pair of EOF patterns is computed for EACH DAY of the calendar year (--> 366 pair in total), using the filtered OLR and using a sliding window of 121 days centered on each of the 366 calendar day.\n",
    "* NOAA distribution: What NOAA provides is primarily the MJO index (i.e. PC1 and PC2 as a function of time, daily, from 1979-2018). What we are interested in is rather the EOF pairs for each calendar day (1->366). Those patterns are also available on the NOAA page (look for the \"OMI EOF patterns\" section down the page).\n",
    "* Format of the EOF patterns txt files: NOAA provide one txt file per calendar day (366 in total) for EOF1 and one per day for EOF2. It's on a regular 2.5x2.5 grid (like NCEP2) but only in the tropics, from 20S to 20N\n",
    "    \n",
    "#### What this notebook does exactly:\n",
    "* The OOMI text files contains only patterns on the 20S-20N tropical band so this notebook also takes care of expanding to a global grid (144x73) filled with zeroes out of the tropics. \n",
    "* This notebook (part 1/2) shows how to read the text files, assemble them, and convert to a T31 global grid: the resulting file contains 2 variables, EOF1 and EOF2, each of them containing 366 timesteps.\n",
    "* Then i have made a second notebook ([part 2/2]( https://nbviewer.jupyter.org/github/dream-gcm/dream-tools/blob/master/demo_py_notebooks/SLX_customise_MJO_EOFs.ipynb)) that shows  how to convert the original regular lat-lon grid to a gaussian grid T42 (or T31) with the latitudes going from North to South in the end so that it can be easily convert to spectral space in the DREAM model and discuss the post-processing and choices to make on these EOF pairs before using them in DREAM.\n"
   ]
  },
  {
   "cell_type": "code",
   "execution_count": 1,
   "metadata": {},
   "outputs": [],
   "source": [
    "# modules for dealing nicely with arrays and netcdf\n",
    "import netCDF4 as nc\n",
    "import pandas as pd\n",
    "import os\n",
    "import xarray as xr\n",
    "import numpy as np\n",
    "\n",
    "\n",
    "# modules for plot purposes\n",
    "import cartopy.crs as ccrs\n",
    "import cartopy.feature as ccf\n",
    "import matplotlib.pyplot as plt\n",
    "from matplotlib.colors import Colormap\n",
    "import matplotlib.colors as mcolors\n",
    "import matplotlib.dates as mdates\n",
    "import matplotlib.cm as cm\n",
    "import matplotlib.dates as mdates\n",
    "import matplotlib.ticker as mticker\n",
    "\n",
    "# Only if using jupyter notebook. Otherwise, comment out.\n",
    "%matplotlib inline "
   ]
  },
  {
   "cell_type": "markdown",
   "metadata": {},
   "source": [
    "## Settings"
   ]
  },
  {
   "cell_type": "code",
   "execution_count": 29,
   "metadata": {},
   "outputs": [],
   "source": [
    "# input/output dir\n",
    "diri='/Users/leroux/DATA/DREAM_DATA/OMI_EOFpatterns/'\n",
    "\n",
    "# name of the output file:\n",
    "filo = 'OMI_EOFs_allyear.nc'"
   ]
  },
  {
   "cell_type": "markdown",
   "metadata": {},
   "source": [
    "## Time coordinate for the 366 output pairs"
   ]
  },
  {
   "cell_type": "markdown",
   "metadata": {},
   "source": [
    "* Create a time dimension for the 366 MJO EOF pairs to writew in netcdf \n",
    "* NOTE: we arbitrary choose year 1980 but it doesn't matter - what matters is that we have a daily calendar over one year, and this year is leap year.\n"
   ]
  },
  {
   "cell_type": "code",
   "execution_count": 36,
   "metadata": {},
   "outputs": [],
   "source": [
    "units=\"hours since 1900-01-01 00:00:0.0\"\n",
    "timdim=pd.date_range(start='1980-01-01', end='1980-12-31', freq='24H')\n",
    "timedimnum= nc.date2num(timdim.to_pydatetime(),units,calendar='standard')"
   ]
  },
  {
   "cell_type": "code",
   "execution_count": 11,
   "metadata": {},
   "outputs": [
    {
     "data": {
      "text/plain": [
       "366"
      ]
     },
     "execution_count": 11,
     "metadata": {},
     "output_type": "execute_result"
    }
   ],
   "source": [
    "timedimnum.size"
   ]
  },
  {
   "cell_type": "markdown",
   "metadata": {},
   "source": [
    "## Read and concatenate EOFs for the 366 calendar julian days\n",
    "NOAA provides one txt file per calendar day and per EOF. Below we process EOF1 then EOF2:"
   ]
  },
  {
   "cell_type": "code",
   "execution_count": 27,
   "metadata": {},
   "outputs": [],
   "source": [
    "# loop to process EOF1 then EOF2:\n",
    "for eofnam in ('eof1','eof2'):\n",
    "\n",
    "        # this defines the name of the output variable in the output netcdf file\n",
    "        if eofnam=='eof1':\n",
    "            longname=\"EOF1 (OMI)\"\n",
    "        if eofnam=='eof2':\n",
    "            longname=\"EOF2 (OMI)\"\n",
    "\n",
    "        # loop on each of the 366 calendar day\n",
    "        for i in range(1,367):\n",
    "\n",
    "            # text file name\n",
    "            if i<10:\n",
    "                fili='eof00'+str(i)+'.txt'\n",
    "            else:\n",
    "                if ((i>=10)&(i<100)):\n",
    "                    fili='eof0'+str(i)+'.txt'\n",
    "                else:\n",
    "                    fili='eof'+str(i)+'.txt'   \n",
    "\n",
    "            # open txt file    \n",
    "            f_eoftxt = open(diri+eofnam+'/'+fili, 'r')\n",
    "\n",
    "            # read all the data in that file at once:\n",
    "            eoftxt=f_eoftxt.read()\n",
    "\n",
    "            # then read the data line by line and convert to a np.array of floats\n",
    "            eofflt = np.array(eoftxt.split()).astype(np.float)\n",
    "            eofflt\n",
    "\n",
    "            # add zeros at latitudes higher than 20N/S (so that the grid is global and of  1-d dim 144*73 as ncep2 reanalyse data)\n",
    "            addzeros= np.zeros(28*144, dtype=float)\n",
    "            globeof_1d = np.concatenate((addzeros,eofflt))\n",
    "            globeof_1d = np.concatenate((globeof_1d,addzeros))\n",
    "\n",
    "            # reshape in 2-d array\n",
    "            globaleof_2d = np.reshape(globeof_1d, [73,144], order='C')\n",
    "\n",
    "            # make it an xarray\n",
    "            lon = np.arange(0,360,2.5)\n",
    "            lat = np.arange(-90,92.5,2.5)\n",
    "            XRglobaleof_2d = xr.DataArray(globaleof_2d, coords=[lat, lon], dims=['lat', 'lon'], name=eofnam)\n",
    "\n",
    "            # concatenate in the allday_array\n",
    "            if i==1:\n",
    "                XRGLOB=XRglobaleof_2d\n",
    "            else:\n",
    "                XRGLOB=xr.concat((XRGLOB,XRglobaleof_2d),dim='time')\n",
    "            del(XRglobaleof_2d)\n",
    "\n",
    "        # add some attributes to the netcdf files.\n",
    "        XRGLOB=XRGLOB.assign_coords(time=timdim)\n",
    "        XRGLOB.attrs['long_name'] =  longname #\"EOF1 (OMI)\"\n",
    "        XRGLOB_out=XRGLOB.assign_coords(time=timedimnum)\n",
    "        XRGLOB_out.time.attrs['units']=units\n",
    "        XRGLOB_out.time.attrs['calendar']='gregorian'\n",
    "                \n",
    "        # save final variable with different names for EOF1 and 2 so that we can use them in thje rest of the notebook\n",
    "        if eofnam=='eof1':\n",
    "            XRGLOB1_out = XRGLOB_out\n",
    "        if eofnam=='eof2':\n",
    "            XRGLOB2_out = XRGLOB_out"
   ]
  },
  {
   "cell_type": "code",
   "execution_count": null,
   "metadata": {},
   "outputs": [],
   "source": []
  },
  {
   "cell_type": "markdown",
   "metadata": {},
   "source": [
    "## Save the pairs of EOFs in a file (containing the EOF1,EOF2 pair for each of the 366 days)"
   ]
  },
  {
   "cell_type": "code",
   "execution_count": 28,
   "metadata": {},
   "outputs": [],
   "source": [
    "XRGLOB1_out.to_netcdf(diri+filo,mode='w')\n",
    "XRGLOB2_out.to_netcdf(diri+filo,mode='a')"
   ]
  },
  {
   "cell_type": "code",
   "execution_count": null,
   "metadata": {},
   "outputs": [],
   "source": []
  },
  {
   "cell_type": "markdown",
   "metadata": {},
   "source": [
    "## Now how to re-open and read this netcdf file:"
   ]
  },
  {
   "cell_type": "markdown",
   "metadata": {},
   "source": [
    "### Read with xarray:"
   ]
  },
  {
   "cell_type": "code",
   "execution_count": 30,
   "metadata": {},
   "outputs": [],
   "source": [
    "EOF1 = xr.open_dataset(diri+filo,decode_times=True)['eof1']\n",
    "EOF2 = xr.open_dataset(diri+filo,decode_times=True)['eof2']"
   ]
  },
  {
   "cell_type": "markdown",
   "metadata": {},
   "source": [
    "### Quick look at what's in the array:"
   ]
  },
  {
   "cell_type": "code",
   "execution_count": 40,
   "metadata": {},
   "outputs": [
    {
     "data": {
      "text/plain": [
       "<xarray.DataArray 'eof1' (time: 366, lat: 73, lon: 144)>\n",
       "[3847392 values with dtype=float64]\n",
       "Coordinates:\n",
       "  * lat      (lat) float64 -90.0 -87.5 -85.0 -82.5 -80.0 -77.5 -75.0 -72.5 ...\n",
       "  * lon      (lon) float64 0.0 2.5 5.0 7.5 10.0 12.5 15.0 17.5 20.0 22.5 ...\n",
       "  * time     (time) datetime64[ns] 1980-01-01 1980-01-02 1980-01-03 ...\n",
       "Attributes:\n",
       "    long_name:  EOF1 (OMI)"
      ]
     },
     "execution_count": 40,
     "metadata": {},
     "output_type": "execute_result"
    }
   ],
   "source": [
    "EOF1"
   ]
  },
  {
   "cell_type": "code",
   "execution_count": 41,
   "metadata": {},
   "outputs": [
    {
     "data": {
      "text/plain": [
       "<xarray.DataArray 'eof2' (time: 366, lat: 73, lon: 144)>\n",
       "[3847392 values with dtype=float64]\n",
       "Coordinates:\n",
       "  * lat      (lat) float64 -90.0 -87.5 -85.0 -82.5 -80.0 -77.5 -75.0 -72.5 ...\n",
       "  * lon      (lon) float64 0.0 2.5 5.0 7.5 10.0 12.5 15.0 17.5 20.0 22.5 ...\n",
       "  * time     (time) datetime64[ns] 1980-01-01 1980-01-02 1980-01-03 ...\n",
       "Attributes:\n",
       "    long_name:  EOF2 (OMI)"
      ]
     },
     "execution_count": 41,
     "metadata": {},
     "output_type": "execute_result"
    }
   ],
   "source": [
    "EOF2"
   ]
  },
  {
   "cell_type": "markdown",
   "metadata": {},
   "source": [
    "### Quick plot of the pair of patterns for the first of april:"
   ]
  },
  {
   "cell_type": "code",
   "execution_count": 43,
   "metadata": {},
   "outputs": [
    {
     "data": {
      "image/png": "[encoded data removed]",
      "text/plain": [
       "<Figure size 432x288 with 2 Axes>"
      ]
     },
     "metadata": {},
     "output_type": "display_data"
    },
    {
     "data": {
      "image/png": "[encoded data removed]",
      "text/plain": [
       "<Figure size 432x288 with 2 Axes>"
      ]
     },
     "metadata": {},
     "output_type": "display_data"
    }
   ],
   "source": [
    "EOF1.sel(time='1980-04-01').plot()\n",
    "plt.title('EOF1')\n",
    "plt.show()\n",
    "\n",
    "EOF2.sel(time='1980-04-01').plot()\n",
    "plt.title('EOF2')\n",
    "plt.show()"
   ]
  },
  {
   "cell_type": "markdown",
   "metadata": {},
   "source": [
    "# Now go see the next notebook (part 2/2]( https://nbviewer.jupyter.org/github/dream-gcm/dream-tools/blob/master/demo_py_notebooks/SLX_customise_MJO_EOFs.ipynb)) to see how to play with those EOF pairs\n",
    "link"
   ]
  },
  {
   "cell_type": "code",
   "execution_count": null,
   "metadata": {},
   "outputs": [],
   "source": []
  },
  {
   "cell_type": "markdown",
   "metadata": {},
   "source": [
    "## ___"
   ]
  }
 ],
 "metadata": {
  "kernelspec": {
   "display_name": "Python 3",
   "language": "python",
   "name": "python3"
  },
  "language_info": {
   "codemirror_mode": {
    "name": "ipython",
    "version": 3
   },
   "file_extension": ".py",
   "mimetype": "text/x-python",
   "name": "python",
   "nbconvert_exporter": "python",
   "pygments_lexer": "ipython3",
   "version": "3.5.5"
  }
 },
 "nbformat": 4,
 "nbformat_minor": 2
}
